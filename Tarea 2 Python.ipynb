{
 "cells": [
  {
   "cell_type": "markdown",
   "id": "bfde4514-0b83-4a36-aaa3-be5817be8162",
   "metadata": {},
   "source": [
    "# Instrucciones de control\n",
    "\n",
    "Nos permiten controlar el flujo de ejecución de nuestros programas"
   ]
  },
  {
   "cell_type": "markdown",
   "id": "d7e16cfe-4309-4e20-b0f5-35b401c3bf0d",
   "metadata": {},
   "source": [
    "## Instrucciones condicionales\n",
    "\n",
    "Forma general:\n",
    "```\n",
    "if expr:\n",
    "    instr...\n",
    "elif expr:\n",
    "    instr...\n",
    "elif expr:\n",
    "    instr...\n",
    "else:\n",
    "    instr...\n",
    "```"
   ]
  },
  {
   "cell_type": "code",
   "execution_count": null,
   "id": "779c66ea-4286-41b8-9b2f-2c11031b1203",
   "metadata": {},
   "outputs": [],
   "source": [
    "if True:\n",
    "    print(\"si\")"
   ]
  },
  {
   "cell_type": "code",
   "execution_count": null,
   "id": "b636460c-86d2-4491-9816-a4bbb8d69b98",
   "metadata": {},
   "outputs": [],
   "source": [
    "if False:\n",
    "    print(\"no\")"
   ]
  },
  {
   "cell_type": "code",
   "execution_count": null,
   "id": "ef7a96d0-99bc-4a52-9dd1-51cf7cb8efe3",
   "metadata": {},
   "outputs": [],
   "source": [
    "if False:\n",
    "    print(\"no\")\n",
    "else:\n",
    "    print(\"talvez\")"
   ]
  },
  {
   "cell_type": "code",
   "execution_count": null,
   "id": "378f4b09-68d5-48bf-9f68-791c568430fc",
   "metadata": {},
   "outputs": [],
   "source": [
    "x = 5\n",
    "if x < 2:\n",
    "    y = 1\n",
    "elif x < 4:\n",
    "    y = 2\n",
    "elif x < 6:\n",
    "    y = 3\n",
    "else:\n",
    "    y = -1\n",
    "\n",
    "print(y)"
   ]
  },
  {
   "cell_type": "markdown",
   "id": "a5459fc4-fbd6-4b50-8898-2f3b0154629b",
   "metadata": {},
   "source": [
    "## Loops\n",
    "\n",
    "Forma general:\n",
    "\n",
    "```\n",
    "while expr:\n",
    "    instr...\n",
    "else:\n",
    "    instr...\n",
    "```"
   ]
  },
  {
   "cell_type": "code",
   "execution_count": null,
   "id": "6e4de93f-4c41-41b9-8327-1f4f9e0a30f3",
   "metadata": {},
   "outputs": [],
   "source": [
    "x = 0\n",
    "while x < 10:\n",
    "    print(f\"{x} es menor a 10\")\n",
    "    x += 1"
   ]
  },
  {
   "cell_type": "code",
   "execution_count": null,
   "id": "9401e7f5-5175-4c43-bb03-d55a091e1d68",
   "metadata": {},
   "outputs": [],
   "source": [
    "x = 0\n",
    "while True:\n",
    "    print(f\"{x} es menor a 10\")\n",
    "    x += 1\n",
    "    if x >= 10:\n",
    "        break"
   ]
  },
  {
   "cell_type": "code",
   "execution_count": null,
   "id": "495f340a-60d3-4be6-b047-52c8683ed4c4",
   "metadata": {},
   "outputs": [],
   "source": [
    "x = 0\n",
    "while x < 10:\n",
    "    if (x % 2) == 0:\n",
    "        x += 1\n",
    "        continue\n",
    "    print(f\"{x} es menor a 10\")\n",
    "    x += 1"
   ]
  },
  {
   "cell_type": "code",
   "execution_count": null,
   "id": "7f1e92f2-de82-4f72-b6a3-6967a0af48bd",
   "metadata": {},
   "outputs": [],
   "source": [
    "y = 3.12345\n",
    "print(f\"{y:.02f}\")"
   ]
  },
  {
   "cell_type": "markdown",
   "id": "186719bf-44d9-491c-bd43-3100240ce710",
   "metadata": {},
   "source": [
    "## Iteraciones\n",
    "\n",
    "Forma general:\n",
    "\n",
    "```\n",
    "for item in collection:\n",
    "    instr...\n",
    "```"
   ]
  },
  {
   "cell_type": "code",
   "execution_count": null,
   "id": "6930b76d-40d3-435e-b7f7-2f57e7c06510",
   "metadata": {},
   "outputs": [],
   "source": [
    "for x in range(10):\n",
    "    print(f\"{x} es menor a 10\")"
   ]
  },
  {
   "cell_type": "code",
   "execution_count": null,
   "id": "9b150a2c-d01b-4666-9b9b-be1c5609f2ee",
   "metadata": {},
   "outputs": [],
   "source": [
    "for x in range(10):\n",
    "    if x == 3:\n",
    "        continue\n",
    "    if x == 5:\n",
    "        break\n",
    "    print(x)"
   ]
  },
  {
   "cell_type": "markdown",
   "id": "76fc7afa-1d44-4f7e-8c68-8c37bf15e75a",
   "metadata": {},
   "source": [
    "Veamos como contar la cantidad de palabras en un documento."
   ]
  },
  {
   "cell_type": "code",
   "execution_count": 3,
   "id": "6583849f-f97d-4b34-924e-332e559732fe",
   "metadata": {},
   "outputs": [],
   "source": [
    "from pprint import pprint\n",
    "\n",
    "def aiw_wc():\n",
    "    with open('./aiw.txt', 'rt', encoding = 'utf8') as book:\n",
    "        book.read(1399)\n",
    "        words = book.read().split()\n",
    "        word_counts = {}\n",
    "        for word in words:\n",
    "            if word in word_counts:\n",
    "                word_counts[word] += 1\n",
    "            else:\n",
    "                word_counts[word] = 1\n",
    "        return word_counts"
   ]
  },
  {
   "cell_type": "code",
   "execution_count": 4,
   "id": "490a9109-cdfd-4b69-9348-93b01d31446e",
   "metadata": {},
   "outputs": [],
   "source": [
    "wc = aiw_wc()"
   ]
  },
  {
   "cell_type": "markdown",
   "id": "9b386c5a-8b58-4623-809c-cb4dd77607f2",
   "metadata": {},
   "source": [
    "Podemos obtener el top 20 palabras más frecuentes"
   ]
  },
  {
   "cell_type": "code",
   "execution_count": 5,
   "id": "c89c2aad-6e3e-44e5-9340-5d63ee69a7c6",
   "metadata": {},
   "outputs": [],
   "source": [
    "top = sorted(wc.items(), reverse=True, key=lambda x: x[1])"
   ]
  },
  {
   "cell_type": "code",
   "execution_count": 6,
   "id": "a1a78f31-edb3-467f-9cbd-2bcb048e976d",
   "metadata": {},
   "outputs": [
    {
     "data": {
      "text/plain": [
       "[('the', 1673),\n",
       " ('and', 778),\n",
       " ('to', 777),\n",
       " ('a', 664),\n",
       " ('of', 599),\n",
       " ('she', 485),\n",
       " ('said', 416),\n",
       " ('in', 400),\n",
       " ('it', 355),\n",
       " ('was', 329),\n",
       " ('you', 303),\n",
       " ('I', 249),\n",
       " ('as', 246),\n",
       " ('that', 225),\n",
       " ('Alice', 221),\n",
       " ('with', 212),\n",
       " ('at', 207),\n",
       " ('her', 204),\n",
       " ('had', 176),\n",
       " ('all', 169)]"
      ]
     },
     "execution_count": 6,
     "metadata": {},
     "output_type": "execute_result"
    }
   ],
   "source": [
    "top[:20]"
   ]
  },
  {
   "cell_type": "code",
   "execution_count": 7,
   "id": "2297e288-f0ea-4161-ace6-8760c1faefe7",
   "metadata": {},
   "outputs": [
    {
     "name": "stdout",
     "output_type": "stream",
     "text": [
      "11 ms ± 296 µs per loop (mean ± std. dev. of 7 runs, 100 loops each)\n"
     ]
    }
   ],
   "source": [
    "%%timeit\n",
    "wc = aiw_wc()\n",
    "top = sorted(wc.items(), reverse=True, key=lambda x: x[1])\n",
    "top[:20]"
   ]
  },
  {
   "cell_type": "markdown",
   "id": "9a5b6d9c-31b7-44ed-a2ba-e3f71d0c1e98",
   "metadata": {},
   "source": [
    "Hay formas más simples y eficientes de hacer eso, comparemos el código anterior con las siguientes propuestas:"
   ]
  },
  {
   "cell_type": "code",
   "execution_count": 11,
   "id": "8772b705-4e39-4aa1-a559-bc1bd8b27ad3",
   "metadata": {},
   "outputs": [],
   "source": [
    "from collections import defaultdict\n",
    "\n",
    "def aiw_wc():\n",
    "    with open('./aiw.txt', 'rt', encoding = 'utf8') as book:\n",
    "        book.read(1399)\n",
    "        words = book.read().split()\n",
    "        word_counts = defaultdict(int)\n",
    "        for word in words:\n",
    "            word_counts[word] += 1\n",
    "        return word_counts"
   ]
  },
  {
   "cell_type": "code",
   "execution_count": 15,
   "id": "ae076b1d-bb24-4373-8d67-fd1e6e6bde68",
   "metadata": {},
   "outputs": [
    {
     "name": "stdout",
     "output_type": "stream",
     "text": [
      "7.98 ms ± 53.8 µs per loop (mean ± std. dev. of 7 runs, 100 loops each)\n"
     ]
    }
   ],
   "source": [
    "%%timeit\n",
    "wc = aiw_wc()\n",
    "top = sorted(wc.items(), reverse=True, key=lambda x: x[1])\n",
    "top[:20]"
   ]
  },
  {
   "cell_type": "code",
   "execution_count": 16,
   "id": "bf471e8c-728c-4b4e-8164-2b6d4152ba5f",
   "metadata": {},
   "outputs": [],
   "source": [
    "from collections import Counter\n",
    "\n",
    "def aiw_wc():\n",
    "    with open('./aiw.txt', 'rt', encoding = 'utf8') as book:\n",
    "        book.read(1399)\n",
    "        return Counter(book.read().split())"
   ]
  },
  {
   "cell_type": "code",
   "execution_count": 18,
   "id": "fb18d799-d7f8-4738-88e8-5c4a1a0d164f",
   "metadata": {},
   "outputs": [
    {
     "name": "stdout",
     "output_type": "stream",
     "text": [
      "7.26 ms ± 58.7 µs per loop (mean ± std. dev. of 7 runs, 100 loops each)\n"
     ]
    }
   ],
   "source": [
    "%%timeit\n",
    "wc = aiw_wc()\n",
    "wc.most_common(20)"
   ]
  },
  {
   "cell_type": "code",
   "execution_count": 19,
   "id": "847155d8-e2ef-4944-9829-0707031992ef",
   "metadata": {},
   "outputs": [
    {
     "data": {
      "text/plain": [
       "[('the', 1673),\n",
       " ('and', 778),\n",
       " ('to', 777),\n",
       " ('a', 664),\n",
       " ('of', 599),\n",
       " ('she', 485),\n",
       " ('said', 416),\n",
       " ('in', 400),\n",
       " ('it', 355),\n",
       " ('was', 329),\n",
       " ('you', 303),\n",
       " ('I', 249),\n",
       " ('as', 246),\n",
       " ('that', 225),\n",
       " ('Alice', 221),\n",
       " ('with', 212),\n",
       " ('at', 207),\n",
       " ('her', 204),\n",
       " ('had', 176),\n",
       " ('all', 169)]"
      ]
     },
     "execution_count": 19,
     "metadata": {},
     "output_type": "execute_result"
    }
   ],
   "source": [
    "wc = aiw_wc()\n",
    "wc.most_common(20)"
   ]
  },
  {
   "cell_type": "markdown",
   "id": "1af6622b-f1b0-449f-b841-e5d5f2a2cb11",
   "metadata": {},
   "source": [
    "# Problema\n",
    "\n",
    "Escribe un programa con quién jugar [al gato](https://es.wikipedia.org/wiki/Tres_en_l%C3%ADnea).\n",
    "Puedes representar el estado del juego con una lista con valores que codifican las marcas: 0 para casillas vacías, 1 para las cruces, 2 para los círculos.\n",
    "Puedes recibir la jugada desde el teclado usando `input`."
   ]
  },
  {
   "cell_type": "markdown",
   "id": "f53b5286-c26f-4947-adfb-87844310f76f",
   "metadata": {},
   "source": [
    "La siguiente función permite imprimir a pantalla el estado del juego."
   ]
  },
  {
   "cell_type": "code",
   "execution_count": 20,
   "id": "48e6fdf3-7f7c-4d41-be39-d10eae6dee46",
   "metadata": {},
   "outputs": [],
   "source": [
    "def cell_char(x):\n",
    "    if x == 1:\n",
    "        return \"x\"\n",
    "    if x == 2:\n",
    "        return \"o\"\n",
    "    return \" \"\n",
    "\n",
    "def print_state(s):\n",
    "    c = [cell_char(x) for x in s]\n",
    "    print(\"    A   B   C  \")\n",
    "    print(\"  ┏━━━┯━━━┯━━━┓\")\n",
    "    print(\"1 ┃ {} │ {} │ {} ┃\".format(c[0], c[1], c[2]))\n",
    "    print(\"  ┠───┼───┼───┨\")\n",
    "    print(\"2 ┃ {} │ {} │ {} ┃\".format(c[3], c[4], c[5]))\n",
    "    print(\"  ┠───┼───┼───┨\")\n",
    "    print(\"3 ┃ {} │ {} │ {} ┃\".format(c[6], c[7], c[8]))\n",
    "    print(\"  ┗━━━┷━━━┷━━━┛\")"
   ]
  },
  {
   "cell_type": "code",
   "execution_count": 21,
   "id": "7d159e6e-e4b2-47d9-a960-0e0a8f6bfc94",
   "metadata": {},
   "outputs": [
    {
     "name": "stdout",
     "output_type": "stream",
     "text": [
      "    A   B   C  \n",
      "  ┏━━━┯━━━┯━━━┓\n",
      "1 ┃   │   │   ┃\n",
      "  ┠───┼───┼───┨\n",
      "2 ┃   │   │   ┃\n",
      "  ┠───┼───┼───┨\n",
      "3 ┃   │   │   ┃\n",
      "  ┗━━━┷━━━┷━━━┛\n"
     ]
    }
   ],
   "source": [
    "print_state([0, 0, 0, 0, 0, 0, 0, 0, 0])"
   ]
  },
  {
   "cell_type": "markdown",
   "id": "2b2eccd3-82cc-4389-af9f-19c6cc835a93",
   "metadata": {},
   "source": [
    "El siguiente fragmento de código puede servir como plantilla para el juego"
   ]
  },
  {
   "cell_type": "code",
   "execution_count": 22,
   "id": "9a6fa8f1-9bd7-4f0a-b508-7252cbb9d366",
   "metadata": {},
   "outputs": [],
   "source": [
    "def tic_tac_toe():\n",
    "    s = init_state()\n",
    "    print(\"EL GATO™\")\n",
    "    player = 1\n",
    "    while not is_final_state(s):\n",
    "        print_state(s)\n",
    "        m = ask_action(s) if player == 1 else choose_action(s)\n",
    "        s = next_state(s, m, player)\n",
    "        player = next_player(player)\n",
    "    report_winner(s)"
   ]
  },
  {
   "cell_type": "code",
   "execution_count": null,
   "id": "24a1c726-5977-490e-bcb9-4a054e00cfba",
   "metadata": {},
   "outputs": [
    {
     "name": "stdout",
     "output_type": "stream",
     "text": [
      "Player O turn\n",
      "- - - \n",
      "- - - \n",
      "- - - \n"
     ]
    }
   ],
   "source": [
    "import random\n",
    "\n",
    "\n",
    "class TicTacToe:\n",
    "\n",
    "    def __init__(self):\n",
    "        self.board = []\n",
    "\n",
    "    def create_board(self):\n",
    "        for i in range(3):\n",
    "            row = []\n",
    "            for j in range(3):\n",
    "                row.append('-')\n",
    "            self.board.append(row)\n",
    "\n",
    "    def get_random_first_player(self):\n",
    "        return random.randint(0, 1)\n",
    "\n",
    "    def fix_spot(self, row, col, player):\n",
    "        self.board[row][col] = player\n",
    "\n",
    "    def is_player_win(self, player):\n",
    "        win = None\n",
    "\n",
    "        n = len(self.board)\n",
    "\n",
    "        # renglones\n",
    "        for i in range(n):\n",
    "            win = True\n",
    "            for j in range(n):\n",
    "                if self.board[i][j] != player:\n",
    "                    win = False\n",
    "                    break\n",
    "            if win:\n",
    "                return win\n",
    "\n",
    "        # columnas\n",
    "        for i in range(n):\n",
    "            win = True\n",
    "            for j in range(n):\n",
    "                if self.board[j][i] != player:\n",
    "                    win = False\n",
    "                    break\n",
    "            if win:\n",
    "                return win\n",
    "\n",
    "        # diagonales\n",
    "        win = True\n",
    "        for i in range(n):\n",
    "            if self.board[i][i] != player:\n",
    "                win = False\n",
    "                break\n",
    "        if win:\n",
    "            return win\n",
    "\n",
    "        win = True\n",
    "        for i in range(n):\n",
    "            if self.board[i][n - 1 - i] != player:\n",
    "                win = False\n",
    "                break\n",
    "        if win:\n",
    "            return win\n",
    "        return False\n",
    "\n",
    "        for row in self.board:\n",
    "            for item in row:\n",
    "                if item == '-':\n",
    "                    return False\n",
    "        return True\n",
    "\n",
    "    def is_board_filled(self):\n",
    "        for row in self.board:\n",
    "            for item in row:\n",
    "                if item == '-':\n",
    "                    return False\n",
    "        return True\n",
    "\n",
    "    def swap_player_turn(self, player):\n",
    "        return 'X' if player == 'O' else 'O'\n",
    "\n",
    "    def show_board(self):\n",
    "        for row in self.board:\n",
    "            for item in row:\n",
    "                print(item, end=\" \")\n",
    "            print()\n",
    "\n",
    "    def start(self):\n",
    "        self.create_board()\n",
    "\n",
    "        player = 'X' if self.get_random_first_player() == 1 else 'O'\n",
    "        while True:\n",
    "            print(f\"Player {player} turn\")\n",
    "\n",
    "            self.show_board()\n",
    "\n",
    "            # taking user input\n",
    "            row, col = list(\n",
    "                map(int, input(\"Enter row and column numbers to fix spot: \").split()))\n",
    "            print()\n",
    "\n",
    "            # fixing the spot\n",
    "            self.fix_spot(row - 1, col - 1, player)\n",
    "\n",
    "            # checking whether current player is won or not\n",
    "            if self.is_player_win(player):\n",
    "                print(f\"Player {player} wins the game!\")\n",
    "                break\n",
    "\n",
    "            # checking whether the game is draw or not\n",
    "            if self.is_board_filled():\n",
    "                print(\"Match Draw!\")\n",
    "                break\n",
    "\n",
    "            # swapping the turn\n",
    "            player = self.swap_player_turn(player)\n",
    "\n",
    "        # showing the final view of board\n",
    "        print()\n",
    "        self.show_board()\n",
    "\n",
    "\n",
    "# starting the game\n",
    "tic_tac_toe = TicTacToe()\n",
    "tic_tac_toe.start()"
   ]
  }
 ],
 "metadata": {
  "kernelspec": {
   "display_name": "Python 3 (ipykernel)",
   "language": "python",
   "name": "python3"
  },
  "language_info": {
   "codemirror_mode": {
    "name": "ipython",
    "version": 3
   },
   "file_extension": ".py",
   "mimetype": "text/x-python",
   "name": "python",
   "nbconvert_exporter": "python",
   "pygments_lexer": "ipython3",
   "version": "3.10.7"
  }
 },
 "nbformat": 4,
 "nbformat_minor": 5
}
