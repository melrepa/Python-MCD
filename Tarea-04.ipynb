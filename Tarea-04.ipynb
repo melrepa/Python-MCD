{
 "cells": [
  {
   "cell_type": "markdown",
   "id": "fc864d6f-cd74-49eb-aee6-bff91fe5c256",
   "metadata": {},
   "source": [
    "# Tarea 4\n",
    "## Melissa Reyes Paz\n",
    "## Programación para Ciencia de Datos."
   ]
  },
  {
   "cell_type": "code",
   "execution_count": 1,
   "id": "83f04829-9679-455f-bdd3-092a95beede6",
   "metadata": {},
   "outputs": [],
   "source": [
    "import numpy as np\n",
    "import pandas as pd\n",
    "import os\n",
    "import urllib.request\n",
    "import openpyxl"
   ]
  },
  {
   "cell_type": "markdown",
   "id": "2e192012-6802-43e1-bbb7-c6455b07a8ee",
   "metadata": {},
   "source": [
    "**Problema 1:** Determina qué ocurre cuando creamos un objeto `Series` a partir de un diccionario, pero adicionalmente proveemos el argumento opcional `index`. ¿De qué forma podemos utilizar esta propiedad?"
   ]
  },
  {
   "cell_type": "markdown",
   "id": "64a7dd99-c9e6-4dca-8233-e4c0dd907a97",
   "metadata": {},
   "source": [
    "Si se parte de un diccionario para crear un objeto serie se puede observar como se utilizan las claves como etiquetas del índice, y los valores del diccionario como valores de la serie."
   ]
  },
  {
   "cell_type": "code",
   "execution_count": 2,
   "id": "07d203af-d4bf-49a5-a78e-af50a7f6bc6c",
   "metadata": {},
   "outputs": [
    {
     "data": {
      "text/plain": [
       "Oct    13\n",
       "Nov    19\n",
       "Dic    24\n",
       "dtype: int64"
      ]
     },
     "execution_count": 2,
     "metadata": {},
     "output_type": "execute_result"
    }
   ],
   "source": [
    "f = {\"Oct\":13, \"Nov\":19, \"Dic\":24}\n",
    "g = pd.Series(f)\n",
    "g"
   ]
  },
  {
   "cell_type": "markdown",
   "id": "f2839ed0-1e7d-401a-a256-b6afd35b52e3",
   "metadata": {},
   "source": [
    "Si se incluye el índice explícitamente en la creación de la serie, los valores en la serie se tomarán en el orden en el que estén en el índice explícito. Además, si en éste hay valores que no pertenecen al conjunto de claves del diccionario, se añaden a la serie con un valor NaN, como se muestra a continuación. "
   ]
  },
  {
   "cell_type": "code",
   "execution_count": 3,
   "id": "de81cb02-db04-41c8-a585-596c2adf53f8",
   "metadata": {},
   "outputs": [
    {
     "data": {
      "text/plain": [
       "Dic     24.0\n",
       "Nov     19.0\n",
       "Oct     13.0\n",
       "Sept     NaN\n",
       "dtype: float64"
      ]
     },
     "execution_count": 3,
     "metadata": {},
     "output_type": "execute_result"
    }
   ],
   "source": [
    "f = {\"Oct\":13, \"Nov\":19, \"Dic\":24}\n",
    "g = pd.Series(f, index = [\"Dic\", \"Nov\", \"Oct\", \"Sept\"])\n",
    "g"
   ]
  },
  {
   "cell_type": "markdown",
   "id": "00d64011-97e5-40c2-a128-124ae1732d52",
   "metadata": {},
   "source": [
    "Para responder el problema, se realizó un ejemplo donde se creó la serie especificando el índice que se ha formado dando la vuelta a las claves del diccionario (\"Oct\", \"Nov\" y \"Dic\") y se ha añadido a la lista de etiquetas el valor \"Sept\", que no pertenece al conjunto de claves del diccionario. Se ha añadido a la serie, pero se le ha asignado el valor NaN. Es precisamente la presencia de este valor lo que modifica el tipo de la serie a float.\n",
    "Por lo tanto, podemos controlar tanto los datos que queremos incluir como su orden especificando el index."
   ]
  },
  {
   "cell_type": "markdown",
   "id": "1d8ec5ed-5aef-491e-a15f-9c8ac86eaba2",
   "metadata": {},
   "source": [
    "**Problema 2:** Determina qué ocurre cuando creamos un objeto `Series` a partir de un valor numérico, pero adicionalmente proveemos el argumento opcional `index`. ¿De qué forma podemos utilizar esta propiedad?"
   ]
  },
  {
   "cell_type": "markdown",
   "id": "335c3c60-2264-427b-a59a-010941c98a80",
   "metadata": {},
   "source": [
    "Primeramente, si se crea una serie utilizando exclusivamente valores númericos, sin establecer un index, se obtiene una serie con un index \"automatico\", dado de forma numérica y ordenada como se muestra a continuación. No brinda mayor información, sólo el orden. "
   ]
  },
  {
   "cell_type": "code",
   "execution_count": 4,
   "id": "9f6506af-c7d0-448c-8c78-45a78ba44f34",
   "metadata": {},
   "outputs": [
    {
     "data": {
      "text/plain": [
       "0    13\n",
       "1    19\n",
       "2    24\n",
       "dtype: int64"
      ]
     },
     "execution_count": 4,
     "metadata": {},
     "output_type": "execute_result"
    }
   ],
   "source": [
    "h = pd.Series([13, 19, 24])\n",
    "h"
   ]
  },
  {
   "cell_type": "markdown",
   "id": "9bd01482-e5fc-4374-b5a6-1e340ae0590f",
   "metadata": {},
   "source": [
    "Sin embargo, si se incluye el argumento opcional Index, este reemplaza al index que se había formado de forma \"automática\", como se muestra a continuación."
   ]
  },
  {
   "cell_type": "code",
   "execution_count": 5,
   "id": "b47b2097-8f12-4a12-a14e-adb02d852178",
   "metadata": {},
   "outputs": [
    {
     "data": {
      "text/plain": [
       "Oct    13\n",
       "Nov    19\n",
       "Dic    24\n",
       "dtype: int64"
      ]
     },
     "execution_count": 5,
     "metadata": {},
     "output_type": "execute_result"
    }
   ],
   "source": [
    "h = pd.Series([13, 19, 24], index = [\"Oct\", \"Nov\", \"Dic\"])\n",
    "h"
   ]
  },
  {
   "cell_type": "markdown",
   "id": "95030ce4-c515-4473-85e7-89b34f496a31",
   "metadata": {},
   "source": [
    "La conexión entre una index y un valor se mantendrá a menos que se modifique explícitamente. Esto quiere decir que filtrar una serie o eliminar un elemento de la serie, por ejemplo, no va a modificar las etiquetas asignadas a cada valor.\n",
    "Por lo tanto, esta propiedad se utiliza para identificar de forma mas fácil o visual lo que significa casa valor en la serie. "
   ]
  },
  {
   "cell_type": "markdown",
   "id": "689e06a7-0f4d-44fb-aded-93b618753169",
   "metadata": {},
   "source": [
    "**Problema 3:** El ejemplo anterior utiliza un concepto llamado *Structured Arrays* de NumPy. Investiga para qué pueden ser utilizados este tipo de arreglos."
   ]
  },
  {
   "cell_type": "markdown",
   "id": "243640dc-9433-4fd3-a753-09b5353c7ce4",
   "metadata": {},
   "source": [
    "Un `Structured array` de NumPy es un tipo de datos heterogeneo que es similar a una fila de una base de datos.\n",
    "Vamos a suponer que se tienen varias categorías de datos sobre varias personas (nombre, edad y peso) y se quieren almacenar estos valores para usarlos, lo cual sería posible hacerlo en tres arrays diferentes, pero es algo tedioso."
   ]
  },
  {
   "cell_type": "code",
   "execution_count": 6,
   "id": "8fdd3516-f377-4f8d-bcff-de945ee7693d",
   "metadata": {},
   "outputs": [],
   "source": [
    "name = ['Melissa', 'Santiago', 'Martin', 'Sofia']\n",
    "age = [25, 28, 23, 41]\n",
    "weight = [68.0, 90.5, 88.0, 61.5]"
   ]
  },
  {
   "cell_type": "markdown",
   "id": "60e9236a-2e8f-4481-acb5-aa0f8081c1fb",
   "metadata": {},
   "source": [
    "En este caso, no hay nada que muestre que los arrays están relacionados y es cuando entra en juego el `Structured array` de NumPy, que son arrays con tipos de datos compuestos.\n",
    "\n",
    "Se puede crear un `Structured array` utilizando una especificación de tipo de datos compuesto como se muestra a continuación."
   ]
  },
  {
   "cell_type": "code",
   "execution_count": 7,
   "id": "bc0445e9-3937-47f8-9f9d-e23622a5db4c",
   "metadata": {},
   "outputs": [
    {
     "name": "stdout",
     "output_type": "stream",
     "text": [
      "[('name', '<U10'), ('age', '<i4'), ('weight', '<f8')]\n"
     ]
    }
   ],
   "source": [
    "# Use a compound data type for structured arrays\n",
    "data = np.zeros(4, dtype={'names':('name', 'age', 'weight'),\n",
    "                          'formats':('U10', 'i4', 'f8')})\n",
    "print(data.dtype)"
   ]
  },
  {
   "cell_type": "markdown",
   "id": "d4fcee3a-67c4-43a9-b781-1df9406d8fd2",
   "metadata": {},
   "source": [
    "Aquí 'U10' quiere decir \"cadena Unicode de longitud máxima 10\", 'i4' es \"entero de 4 bytes (es decir, 32 bits)\" y 'f8' es \"flotante de 8 bytes (es decir, 64 bits)\". \n",
    "\n",
    "Ahora que se ha creado un empy container array, se puede llenar las listas de valores anteriores."
   ]
  },
  {
   "cell_type": "code",
   "execution_count": 8,
   "id": "b2747b96-1734-4327-90f1-b7a709cec346",
   "metadata": {},
   "outputs": [
    {
     "name": "stdout",
     "output_type": "stream",
     "text": [
      "[('Melissa', 25, 68. ) ('Santiago', 28, 90.5) ('Martin', 23, 88. )\n",
      " ('Sofia', 41, 61.5)]\n"
     ]
    }
   ],
   "source": [
    "data['name'] = name\n",
    "data['age'] = age\n",
    "data['weight'] = weight\n",
    "print(data)"
   ]
  },
  {
   "cell_type": "markdown",
   "id": "1c9c7cf5-9205-4707-896b-f666c3f57ddf",
   "metadata": {},
   "source": [
    "Los datos ahora están organizados juntos en un bloque de memoria.\n",
    "\n",
    "Lo genial de los `Structured arrays` es que ahora se puede hacer referencia a los valores por índice o por nombre."
   ]
  },
  {
   "cell_type": "code",
   "execution_count": 9,
   "id": "1a77c2e8-fb86-4e92-8340-adc10b6271ed",
   "metadata": {},
   "outputs": [
    {
     "data": {
      "text/plain": [
       "array(['Melissa', 'Santiago', 'Martin', 'Sofia'], dtype='<U10')"
      ]
     },
     "execution_count": 9,
     "metadata": {},
     "output_type": "execute_result"
    }
   ],
   "source": [
    "# Get all names\n",
    "data['name']"
   ]
  },
  {
   "cell_type": "code",
   "execution_count": 10,
   "id": "15d778e6-47c2-4434-b8a3-62db4a29c404",
   "metadata": {},
   "outputs": [
    {
     "data": {
      "text/plain": [
       "('Melissa', 25, 68.)"
      ]
     },
     "execution_count": 10,
     "metadata": {},
     "output_type": "execute_result"
    }
   ],
   "source": [
    "# Get first row of data\n",
    "data[0]"
   ]
  },
  {
   "cell_type": "code",
   "execution_count": 11,
   "id": "6cad4aa3-7221-4491-99a0-10fd9682cb25",
   "metadata": {},
   "outputs": [
    {
     "data": {
      "text/plain": [
       "'Sofia'"
      ]
     },
     "execution_count": 11,
     "metadata": {},
     "output_type": "execute_result"
    }
   ],
   "source": [
    "# Get the name from the last row\n",
    "data[-1]['name']"
   ]
  },
  {
   "cell_type": "code",
   "execution_count": 12,
   "id": "1f71b098-7ba0-4ff0-abd6-78298a035ca6",
   "metadata": {},
   "outputs": [
    {
     "data": {
      "text/plain": [
       "array(['Melissa', 'Santiago', 'Martin'], dtype='<U10')"
      ]
     },
     "execution_count": 12,
     "metadata": {},
     "output_type": "execute_result"
    }
   ],
   "source": [
    "# Get names where age is under 30\n",
    "data[data['age'] < 30]['name']"
   ]
  },
  {
   "cell_type": "markdown",
   "id": "6c5a7f00-d9a8-4ad4-aca9-b1c684409715",
   "metadata": {},
   "source": [
    "**Problema 4:** Investiga las operaciones `isnull`, `notnull`, `dropna` y `fillna` de Pandas, así como el valor `pd.NA`. Puedes apoyarte de [la documentación](https://pandas.pydata.org/docs/user_guide/missing_data.html)"
   ]
  },
  {
   "cell_type": "markdown",
   "id": "abf89254-0dc9-40b5-8aba-13462161287a",
   "metadata": {},
   "source": [
    "**isnull**\n",
    "\n",
    "La función isnull de pandas da una estructura con las mismas dimensiones que la que se da como argumento, sustituyendo cada valor por True si el correspondiente elemento es un valor nulo, y por False en caso contrario.\n",
    "Esta función es equivalente a isna de pandas."
   ]
  },
  {
   "cell_type": "code",
   "execution_count": 13,
   "id": "835f9453-f2bb-46c3-a680-8b10e4ac41f3",
   "metadata": {},
   "outputs": [
    {
     "data": {
      "text/plain": [
       "0    1.0\n",
       "1    NaN\n",
       "2    8.0\n",
       "3    NaN\n",
       "4    7.0\n",
       "dtype: float64"
      ]
     },
     "execution_count": 13,
     "metadata": {},
     "output_type": "execute_result"
    }
   ],
   "source": [
    "n = pd.Series([1, np.nan, 8, np.nan, 7])\n",
    "n"
   ]
  },
  {
   "cell_type": "code",
   "execution_count": 14,
   "id": "3e155dbd-52d9-4e6a-b6fd-a03439e0442d",
   "metadata": {},
   "outputs": [
    {
     "data": {
      "text/plain": [
       "0    False\n",
       "1     True\n",
       "2    False\n",
       "3     True\n",
       "4    False\n",
       "dtype: bool"
      ]
     },
     "execution_count": 14,
     "metadata": {},
     "output_type": "execute_result"
    }
   ],
   "source": [
    "pd.isnull(n)"
   ]
  },
  {
   "cell_type": "code",
   "execution_count": 15,
   "id": "92513cdd-9450-4049-99ed-302c2bb82d35",
   "metadata": {},
   "outputs": [
    {
     "data": {
      "text/plain": [
       "0    False\n",
       "1     True\n",
       "2    False\n",
       "3     True\n",
       "4    False\n",
       "dtype: bool"
      ]
     },
     "execution_count": 15,
     "metadata": {},
     "output_type": "execute_result"
    }
   ],
   "source": [
    "#También se puede usar como método.\n",
    "n.isnull()"
   ]
  },
  {
   "cell_type": "markdown",
   "id": "efe5ffe4-3cf8-45b5-8730-a0e2f1bb454a",
   "metadata": {},
   "source": [
    "Incluso puede usarse en dataframes."
   ]
  },
  {
   "cell_type": "code",
   "execution_count": 16,
   "id": "db521e2f-4fef-449b-a0e4-35a4ada73ae4",
   "metadata": {},
   "outputs": [
    {
     "data": {
      "text/html": [
       "<div>\n",
       "<style scoped>\n",
       "    .dataframe tbody tr th:only-of-type {\n",
       "        vertical-align: middle;\n",
       "    }\n",
       "\n",
       "    .dataframe tbody tr th {\n",
       "        vertical-align: top;\n",
       "    }\n",
       "\n",
       "    .dataframe thead th {\n",
       "        text-align: right;\n",
       "    }\n",
       "</style>\n",
       "<table border=\"1\" class=\"dataframe\">\n",
       "  <thead>\n",
       "    <tr style=\"text-align: right;\">\n",
       "      <th></th>\n",
       "      <th>A</th>\n",
       "      <th>B</th>\n",
       "      <th>C</th>\n",
       "    </tr>\n",
       "  </thead>\n",
       "  <tbody>\n",
       "    <tr>\n",
       "      <th>Oct</th>\n",
       "      <td>3.0</td>\n",
       "      <td>1.0</td>\n",
       "      <td>NaN</td>\n",
       "    </tr>\n",
       "    <tr>\n",
       "      <th>Nov</th>\n",
       "      <td>NaN</td>\n",
       "      <td>7.0</td>\n",
       "      <td>10.0</td>\n",
       "    </tr>\n",
       "    <tr>\n",
       "      <th>Dic</th>\n",
       "      <td>1.0</td>\n",
       "      <td>NaN</td>\n",
       "      <td>NaN</td>\n",
       "    </tr>\n",
       "  </tbody>\n",
       "</table>\n",
       "</div>"
      ],
      "text/plain": [
       "       A    B     C\n",
       "Oct  3.0  1.0   NaN\n",
       "Nov  NaN  7.0  10.0\n",
       "Dic  1.0  NaN   NaN"
      ]
     },
     "execution_count": 16,
     "metadata": {},
     "output_type": "execute_result"
    }
   ],
   "source": [
    "dfn = pd.DataFrame({\"A\":[3, np.nan, 1],\n",
    "                    \"B\":[1, 7, np.nan],\n",
    "                    \"C\":[np.nan, 10, np.nan]},\n",
    "                   index = [\"Oct\", \"Nov\", \"Dic\"])\n",
    "dfn"
   ]
  },
  {
   "cell_type": "code",
   "execution_count": 17,
   "id": "5a9f9e4d-1c00-4ff8-a03d-1f12e4a7f72e",
   "metadata": {},
   "outputs": [
    {
     "data": {
      "text/html": [
       "<div>\n",
       "<style scoped>\n",
       "    .dataframe tbody tr th:only-of-type {\n",
       "        vertical-align: middle;\n",
       "    }\n",
       "\n",
       "    .dataframe tbody tr th {\n",
       "        vertical-align: top;\n",
       "    }\n",
       "\n",
       "    .dataframe thead th {\n",
       "        text-align: right;\n",
       "    }\n",
       "</style>\n",
       "<table border=\"1\" class=\"dataframe\">\n",
       "  <thead>\n",
       "    <tr style=\"text-align: right;\">\n",
       "      <th></th>\n",
       "      <th>A</th>\n",
       "      <th>B</th>\n",
       "      <th>C</th>\n",
       "    </tr>\n",
       "  </thead>\n",
       "  <tbody>\n",
       "    <tr>\n",
       "      <th>Oct</th>\n",
       "      <td>False</td>\n",
       "      <td>False</td>\n",
       "      <td>True</td>\n",
       "    </tr>\n",
       "    <tr>\n",
       "      <th>Nov</th>\n",
       "      <td>True</td>\n",
       "      <td>False</td>\n",
       "      <td>False</td>\n",
       "    </tr>\n",
       "    <tr>\n",
       "      <th>Dic</th>\n",
       "      <td>False</td>\n",
       "      <td>True</td>\n",
       "      <td>True</td>\n",
       "    </tr>\n",
       "  </tbody>\n",
       "</table>\n",
       "</div>"
      ],
      "text/plain": [
       "         A      B      C\n",
       "Oct  False  False   True\n",
       "Nov   True  False  False\n",
       "Dic  False   True   True"
      ]
     },
     "execution_count": 17,
     "metadata": {},
     "output_type": "execute_result"
    }
   ],
   "source": [
    "pd.isnull(dfn)"
   ]
  },
  {
   "cell_type": "code",
   "execution_count": 18,
   "id": "0a16e04d-c552-4b2c-8ef8-e79cd0a13079",
   "metadata": {},
   "outputs": [
    {
     "data": {
      "text/html": [
       "<div>\n",
       "<style scoped>\n",
       "    .dataframe tbody tr th:only-of-type {\n",
       "        vertical-align: middle;\n",
       "    }\n",
       "\n",
       "    .dataframe tbody tr th {\n",
       "        vertical-align: top;\n",
       "    }\n",
       "\n",
       "    .dataframe thead th {\n",
       "        text-align: right;\n",
       "    }\n",
       "</style>\n",
       "<table border=\"1\" class=\"dataframe\">\n",
       "  <thead>\n",
       "    <tr style=\"text-align: right;\">\n",
       "      <th></th>\n",
       "      <th>A</th>\n",
       "      <th>B</th>\n",
       "      <th>C</th>\n",
       "    </tr>\n",
       "  </thead>\n",
       "  <tbody>\n",
       "    <tr>\n",
       "      <th>Oct</th>\n",
       "      <td>False</td>\n",
       "      <td>False</td>\n",
       "      <td>True</td>\n",
       "    </tr>\n",
       "    <tr>\n",
       "      <th>Nov</th>\n",
       "      <td>True</td>\n",
       "      <td>False</td>\n",
       "      <td>False</td>\n",
       "    </tr>\n",
       "    <tr>\n",
       "      <th>Dic</th>\n",
       "      <td>False</td>\n",
       "      <td>True</td>\n",
       "      <td>True</td>\n",
       "    </tr>\n",
       "  </tbody>\n",
       "</table>\n",
       "</div>"
      ],
      "text/plain": [
       "         A      B      C\n",
       "Oct  False  False   True\n",
       "Nov   True  False  False\n",
       "Dic  False   True   True"
      ]
     },
     "execution_count": 18,
     "metadata": {},
     "output_type": "execute_result"
    }
   ],
   "source": [
    "#También disponible como método.\n",
    "dfn.isnull()"
   ]
  },
  {
   "cell_type": "markdown",
   "id": "1d88b82b-adfb-4a80-989a-982b9cc9fc9e",
   "metadata": {},
   "source": [
    "**notnull**\n",
    "\n",
    "Es una función de pandas que examinará uno o varios valores para validar que no sean nulos. Devolverá False si se detecta NaN o Ninguno. Si estos valores no están presentes, devolverá True.\n",
    "En pocas palabras, es lo contrario a isna."
   ]
  },
  {
   "cell_type": "code",
   "execution_count": 19,
   "id": "63c6689b-8bdb-4a38-9b35-2ebe7a959f64",
   "metadata": {},
   "outputs": [
    {
     "data": {
      "text/plain": [
       "0    1.0\n",
       "1    NaN\n",
       "2    8.0\n",
       "3    NaN\n",
       "4    7.0\n",
       "dtype: float64"
      ]
     },
     "execution_count": 19,
     "metadata": {},
     "output_type": "execute_result"
    }
   ],
   "source": [
    "n"
   ]
  },
  {
   "cell_type": "code",
   "execution_count": 20,
   "id": "e0ab1fd1-04af-4bc2-8626-2cbe580bbf3e",
   "metadata": {},
   "outputs": [
    {
     "data": {
      "text/plain": [
       "0     True\n",
       "1    False\n",
       "2     True\n",
       "3    False\n",
       "4     True\n",
       "dtype: bool"
      ]
     },
     "execution_count": 20,
     "metadata": {},
     "output_type": "execute_result"
    }
   ],
   "source": [
    "pd.notnull(n)"
   ]
  },
  {
   "cell_type": "code",
   "execution_count": 21,
   "id": "7ac28ab9-37a3-4a92-8e99-406d13abc9ce",
   "metadata": {},
   "outputs": [
    {
     "data": {
      "text/plain": [
       "0     True\n",
       "1    False\n",
       "2     True\n",
       "3    False\n",
       "4     True\n",
       "dtype: bool"
      ]
     },
     "execution_count": 21,
     "metadata": {},
     "output_type": "execute_result"
    }
   ],
   "source": [
    "#También se puede usar como método.\n",
    "n.notnull()"
   ]
  },
  {
   "cell_type": "code",
   "execution_count": 22,
   "id": "81389c05-459f-427f-9f8d-4170229e58de",
   "metadata": {},
   "outputs": [
    {
     "data": {
      "text/html": [
       "<div>\n",
       "<style scoped>\n",
       "    .dataframe tbody tr th:only-of-type {\n",
       "        vertical-align: middle;\n",
       "    }\n",
       "\n",
       "    .dataframe tbody tr th {\n",
       "        vertical-align: top;\n",
       "    }\n",
       "\n",
       "    .dataframe thead th {\n",
       "        text-align: right;\n",
       "    }\n",
       "</style>\n",
       "<table border=\"1\" class=\"dataframe\">\n",
       "  <thead>\n",
       "    <tr style=\"text-align: right;\">\n",
       "      <th></th>\n",
       "      <th>A</th>\n",
       "      <th>B</th>\n",
       "      <th>C</th>\n",
       "    </tr>\n",
       "  </thead>\n",
       "  <tbody>\n",
       "    <tr>\n",
       "      <th>Oct</th>\n",
       "      <td>3.0</td>\n",
       "      <td>1.0</td>\n",
       "      <td>NaN</td>\n",
       "    </tr>\n",
       "    <tr>\n",
       "      <th>Nov</th>\n",
       "      <td>NaN</td>\n",
       "      <td>7.0</td>\n",
       "      <td>10.0</td>\n",
       "    </tr>\n",
       "    <tr>\n",
       "      <th>Dic</th>\n",
       "      <td>1.0</td>\n",
       "      <td>NaN</td>\n",
       "      <td>NaN</td>\n",
       "    </tr>\n",
       "  </tbody>\n",
       "</table>\n",
       "</div>"
      ],
      "text/plain": [
       "       A    B     C\n",
       "Oct  3.0  1.0   NaN\n",
       "Nov  NaN  7.0  10.0\n",
       "Dic  1.0  NaN   NaN"
      ]
     },
     "execution_count": 22,
     "metadata": {},
     "output_type": "execute_result"
    }
   ],
   "source": [
    "#Ahora se usará en DF\n",
    "dfn"
   ]
  },
  {
   "cell_type": "code",
   "execution_count": 23,
   "id": "cfc658e6-00e1-49e4-8ce0-0daa54530aed",
   "metadata": {},
   "outputs": [
    {
     "data": {
      "text/html": [
       "<div>\n",
       "<style scoped>\n",
       "    .dataframe tbody tr th:only-of-type {\n",
       "        vertical-align: middle;\n",
       "    }\n",
       "\n",
       "    .dataframe tbody tr th {\n",
       "        vertical-align: top;\n",
       "    }\n",
       "\n",
       "    .dataframe thead th {\n",
       "        text-align: right;\n",
       "    }\n",
       "</style>\n",
       "<table border=\"1\" class=\"dataframe\">\n",
       "  <thead>\n",
       "    <tr style=\"text-align: right;\">\n",
       "      <th></th>\n",
       "      <th>A</th>\n",
       "      <th>B</th>\n",
       "      <th>C</th>\n",
       "    </tr>\n",
       "  </thead>\n",
       "  <tbody>\n",
       "    <tr>\n",
       "      <th>Oct</th>\n",
       "      <td>True</td>\n",
       "      <td>True</td>\n",
       "      <td>False</td>\n",
       "    </tr>\n",
       "    <tr>\n",
       "      <th>Nov</th>\n",
       "      <td>False</td>\n",
       "      <td>True</td>\n",
       "      <td>True</td>\n",
       "    </tr>\n",
       "    <tr>\n",
       "      <th>Dic</th>\n",
       "      <td>True</td>\n",
       "      <td>False</td>\n",
       "      <td>False</td>\n",
       "    </tr>\n",
       "  </tbody>\n",
       "</table>\n",
       "</div>"
      ],
      "text/plain": [
       "         A      B      C\n",
       "Oct   True   True  False\n",
       "Nov  False   True   True\n",
       "Dic   True  False  False"
      ]
     },
     "execution_count": 23,
     "metadata": {},
     "output_type": "execute_result"
    }
   ],
   "source": [
    "pd.notnull(dfn)"
   ]
  },
  {
   "cell_type": "code",
   "execution_count": 24,
   "id": "95ec48bd-7474-459b-b806-4c3c7ea9d9ba",
   "metadata": {},
   "outputs": [
    {
     "data": {
      "text/html": [
       "<div>\n",
       "<style scoped>\n",
       "    .dataframe tbody tr th:only-of-type {\n",
       "        vertical-align: middle;\n",
       "    }\n",
       "\n",
       "    .dataframe tbody tr th {\n",
       "        vertical-align: top;\n",
       "    }\n",
       "\n",
       "    .dataframe thead th {\n",
       "        text-align: right;\n",
       "    }\n",
       "</style>\n",
       "<table border=\"1\" class=\"dataframe\">\n",
       "  <thead>\n",
       "    <tr style=\"text-align: right;\">\n",
       "      <th></th>\n",
       "      <th>A</th>\n",
       "      <th>B</th>\n",
       "      <th>C</th>\n",
       "    </tr>\n",
       "  </thead>\n",
       "  <tbody>\n",
       "    <tr>\n",
       "      <th>Oct</th>\n",
       "      <td>True</td>\n",
       "      <td>True</td>\n",
       "      <td>False</td>\n",
       "    </tr>\n",
       "    <tr>\n",
       "      <th>Nov</th>\n",
       "      <td>False</td>\n",
       "      <td>True</td>\n",
       "      <td>True</td>\n",
       "    </tr>\n",
       "    <tr>\n",
       "      <th>Dic</th>\n",
       "      <td>True</td>\n",
       "      <td>False</td>\n",
       "      <td>False</td>\n",
       "    </tr>\n",
       "  </tbody>\n",
       "</table>\n",
       "</div>"
      ],
      "text/plain": [
       "         A      B      C\n",
       "Oct   True   True  False\n",
       "Nov  False   True   True\n",
       "Dic   True  False  False"
      ]
     },
     "execution_count": 24,
     "metadata": {},
     "output_type": "execute_result"
    }
   ],
   "source": [
    "#También disponible como método.\n",
    "dfn.notnull()"
   ]
  },
  {
   "cell_type": "markdown",
   "id": "82c4ef76-1b2a-4c87-aeee-b36b7078b058",
   "metadata": {},
   "source": [
    "**dropna**\n",
    "\n",
    "Permite filtrar los valores de una estructura de datos pandas para dejar solo aquellos no nulos.\n",
    "\n",
    "Usado en una serie, devuelve una nueva serie tras eliminar los valores nulos."
   ]
  },
  {
   "cell_type": "code",
   "execution_count": 25,
   "id": "7381bb85-dc96-4a68-aad3-83e660343e35",
   "metadata": {},
   "outputs": [
    {
     "data": {
      "text/plain": [
       "0    1.0\n",
       "1    NaN\n",
       "2    8.0\n",
       "3    NaN\n",
       "4    7.0\n",
       "dtype: float64"
      ]
     },
     "execution_count": 25,
     "metadata": {},
     "output_type": "execute_result"
    }
   ],
   "source": [
    "n"
   ]
  },
  {
   "cell_type": "code",
   "execution_count": 26,
   "id": "0068ce14-92b0-4a8d-b461-91a22bcff14a",
   "metadata": {},
   "outputs": [
    {
     "data": {
      "text/plain": [
       "0    1.0\n",
       "2    8.0\n",
       "4    7.0\n",
       "dtype: float64"
      ]
     },
     "execution_count": 26,
     "metadata": {},
     "output_type": "execute_result"
    }
   ],
   "source": [
    "n.dropna()"
   ]
  },
  {
   "cell_type": "markdown",
   "id": "0d51ca16-c0ab-478e-b2f8-2359fa835f01",
   "metadata": {},
   "source": [
    "Si se usa en un dataframe, podemos escoger si se quieren eliminar filas o columnas, y si eliminarlas cuando todos sus elementos sean nulos o simplemente cuando alguno de ellos lo sea. "
   ]
  },
  {
   "cell_type": "code",
   "execution_count": 27,
   "id": "8656b28b-b868-4aeb-9347-c0871351c86a",
   "metadata": {},
   "outputs": [
    {
     "data": {
      "text/html": [
       "<div>\n",
       "<style scoped>\n",
       "    .dataframe tbody tr th:only-of-type {\n",
       "        vertical-align: middle;\n",
       "    }\n",
       "\n",
       "    .dataframe tbody tr th {\n",
       "        vertical-align: top;\n",
       "    }\n",
       "\n",
       "    .dataframe thead th {\n",
       "        text-align: right;\n",
       "    }\n",
       "</style>\n",
       "<table border=\"1\" class=\"dataframe\">\n",
       "  <thead>\n",
       "    <tr style=\"text-align: right;\">\n",
       "      <th></th>\n",
       "      <th>A</th>\n",
       "      <th>B</th>\n",
       "      <th>C</th>\n",
       "      <th>D</th>\n",
       "    </tr>\n",
       "  </thead>\n",
       "  <tbody>\n",
       "    <tr>\n",
       "      <th>Sept</th>\n",
       "      <td>3</td>\n",
       "      <td>1.0</td>\n",
       "      <td>10</td>\n",
       "      <td>NaN</td>\n",
       "    </tr>\n",
       "    <tr>\n",
       "      <th>Oct</th>\n",
       "      <td>4</td>\n",
       "      <td>7.0</td>\n",
       "      <td>5</td>\n",
       "      <td>2.0</td>\n",
       "    </tr>\n",
       "    <tr>\n",
       "      <th>Nov</th>\n",
       "      <td>1</td>\n",
       "      <td>2.0</td>\n",
       "      <td>8</td>\n",
       "      <td>7.0</td>\n",
       "    </tr>\n",
       "    <tr>\n",
       "      <th>Dic</th>\n",
       "      <td>5</td>\n",
       "      <td>NaN</td>\n",
       "      <td>6</td>\n",
       "      <td>9.0</td>\n",
       "    </tr>\n",
       "  </tbody>\n",
       "</table>\n",
       "</div>"
      ],
      "text/plain": [
       "      A    B   C    D\n",
       "Sept  3  1.0  10  NaN\n",
       "Oct   4  7.0   5  2.0\n",
       "Nov   1  2.0   8  7.0\n",
       "Dic   5  NaN   6  9.0"
      ]
     },
     "execution_count": 27,
     "metadata": {},
     "output_type": "execute_result"
    }
   ],
   "source": [
    "dfn2 = pd.DataFrame({\"A\":[3, 4, 1, 5],\n",
    "                    \"B\":[1, 7, 2, np.nan],\n",
    "                    \"C\":[10, 5, 8, 6],\n",
    "                    \"D\":[np.nan, 2, 7, 9]},\n",
    "                   index = [\"Sept\", \"Oct\", \"Nov\", \"Dic\"])\n",
    "dfn2"
   ]
  },
  {
   "cell_type": "code",
   "execution_count": 28,
   "id": "ab2889f8-7c31-443a-9859-a97374d1f2c3",
   "metadata": {},
   "outputs": [
    {
     "data": {
      "text/html": [
       "<div>\n",
       "<style scoped>\n",
       "    .dataframe tbody tr th:only-of-type {\n",
       "        vertical-align: middle;\n",
       "    }\n",
       "\n",
       "    .dataframe tbody tr th {\n",
       "        vertical-align: top;\n",
       "    }\n",
       "\n",
       "    .dataframe thead th {\n",
       "        text-align: right;\n",
       "    }\n",
       "</style>\n",
       "<table border=\"1\" class=\"dataframe\">\n",
       "  <thead>\n",
       "    <tr style=\"text-align: right;\">\n",
       "      <th></th>\n",
       "      <th>A</th>\n",
       "      <th>B</th>\n",
       "      <th>C</th>\n",
       "      <th>D</th>\n",
       "    </tr>\n",
       "  </thead>\n",
       "  <tbody>\n",
       "    <tr>\n",
       "      <th>Oct</th>\n",
       "      <td>4</td>\n",
       "      <td>7.0</td>\n",
       "      <td>5</td>\n",
       "      <td>2.0</td>\n",
       "    </tr>\n",
       "    <tr>\n",
       "      <th>Nov</th>\n",
       "      <td>1</td>\n",
       "      <td>2.0</td>\n",
       "      <td>8</td>\n",
       "      <td>7.0</td>\n",
       "    </tr>\n",
       "  </tbody>\n",
       "</table>\n",
       "</div>"
      ],
      "text/plain": [
       "     A    B  C    D\n",
       "Oct  4  7.0  5  2.0\n",
       "Nov  1  2.0  8  7.0"
      ]
     },
     "execution_count": 28,
     "metadata": {},
     "output_type": "execute_result"
    }
   ],
   "source": [
    "#Por defecto se aplica al eje0, se eliminan las filas que incluyen valores nulos.\n",
    "dfn2.dropna()"
   ]
  },
  {
   "cell_type": "code",
   "execution_count": 29,
   "id": "41b8b044-d769-4af1-baaa-d5a472e7c4c8",
   "metadata": {},
   "outputs": [
    {
     "data": {
      "text/html": [
       "<div>\n",
       "<style scoped>\n",
       "    .dataframe tbody tr th:only-of-type {\n",
       "        vertical-align: middle;\n",
       "    }\n",
       "\n",
       "    .dataframe tbody tr th {\n",
       "        vertical-align: top;\n",
       "    }\n",
       "\n",
       "    .dataframe thead th {\n",
       "        text-align: right;\n",
       "    }\n",
       "</style>\n",
       "<table border=\"1\" class=\"dataframe\">\n",
       "  <thead>\n",
       "    <tr style=\"text-align: right;\">\n",
       "      <th></th>\n",
       "      <th>A</th>\n",
       "      <th>C</th>\n",
       "    </tr>\n",
       "  </thead>\n",
       "  <tbody>\n",
       "    <tr>\n",
       "      <th>Sept</th>\n",
       "      <td>3</td>\n",
       "      <td>10</td>\n",
       "    </tr>\n",
       "    <tr>\n",
       "      <th>Oct</th>\n",
       "      <td>4</td>\n",
       "      <td>5</td>\n",
       "    </tr>\n",
       "    <tr>\n",
       "      <th>Nov</th>\n",
       "      <td>1</td>\n",
       "      <td>8</td>\n",
       "    </tr>\n",
       "    <tr>\n",
       "      <th>Dic</th>\n",
       "      <td>5</td>\n",
       "      <td>6</td>\n",
       "    </tr>\n",
       "  </tbody>\n",
       "</table>\n",
       "</div>"
      ],
      "text/plain": [
       "      A   C\n",
       "Sept  3  10\n",
       "Oct   4   5\n",
       "Nov   1   8\n",
       "Dic   5   6"
      ]
     },
     "execution_count": 29,
     "metadata": {},
     "output_type": "execute_result"
    }
   ],
   "source": [
    "dfn2.dropna(axis = 1)"
   ]
  },
  {
   "cell_type": "markdown",
   "id": "7faf8f67-074c-4068-9b72-ff66ae92fefb",
   "metadata": {},
   "source": [
    "Usando el parámetro how se puede controlar cómo se apliqua el método: si toma el valor \"all\", solo se eliminarán las filas o columnas en las que todos sus elementos sean nulos. Si toma el valor \"any\" (valor por defecto), se eliminarán las filas o columnas en las que algún elemento sea nulo. "
   ]
  },
  {
   "cell_type": "code",
   "execution_count": 30,
   "id": "1315fbb4-1f76-48d5-bf2a-e395056a24dd",
   "metadata": {},
   "outputs": [
    {
     "data": {
      "text/html": [
       "<div>\n",
       "<style scoped>\n",
       "    .dataframe tbody tr th:only-of-type {\n",
       "        vertical-align: middle;\n",
       "    }\n",
       "\n",
       "    .dataframe tbody tr th {\n",
       "        vertical-align: top;\n",
       "    }\n",
       "\n",
       "    .dataframe thead th {\n",
       "        text-align: right;\n",
       "    }\n",
       "</style>\n",
       "<table border=\"1\" class=\"dataframe\">\n",
       "  <thead>\n",
       "    <tr style=\"text-align: right;\">\n",
       "      <th></th>\n",
       "      <th>A</th>\n",
       "      <th>B</th>\n",
       "      <th>C</th>\n",
       "      <th>D</th>\n",
       "    </tr>\n",
       "  </thead>\n",
       "  <tbody>\n",
       "    <tr>\n",
       "      <th>Sept</th>\n",
       "      <td>3</td>\n",
       "      <td>1.0</td>\n",
       "      <td>10</td>\n",
       "      <td>NaN</td>\n",
       "    </tr>\n",
       "    <tr>\n",
       "      <th>Oct</th>\n",
       "      <td>4</td>\n",
       "      <td>7.0</td>\n",
       "      <td>5</td>\n",
       "      <td>2.0</td>\n",
       "    </tr>\n",
       "    <tr>\n",
       "      <th>Nov</th>\n",
       "      <td>1</td>\n",
       "      <td>2.0</td>\n",
       "      <td>8</td>\n",
       "      <td>7.0</td>\n",
       "    </tr>\n",
       "    <tr>\n",
       "      <th>Dic</th>\n",
       "      <td>5</td>\n",
       "      <td>NaN</td>\n",
       "      <td>6</td>\n",
       "      <td>9.0</td>\n",
       "    </tr>\n",
       "  </tbody>\n",
       "</table>\n",
       "</div>"
      ],
      "text/plain": [
       "      A    B   C    D\n",
       "Sept  3  1.0  10  NaN\n",
       "Oct   4  7.0   5  2.0\n",
       "Nov   1  2.0   8  7.0\n",
       "Dic   5  NaN   6  9.0"
      ]
     },
     "execution_count": 30,
     "metadata": {},
     "output_type": "execute_result"
    }
   ],
   "source": [
    "dfn2.dropna(how = \"all\")"
   ]
  },
  {
   "cell_type": "markdown",
   "id": "2c0a516b-baba-49fb-8f5c-ea7cbcca8fd3",
   "metadata": {},
   "source": [
    "**fillna**\n",
    "\n",
    "Permite sustituir los valores nulos de una estructura por otro valor según ciertos criterios: pueden sustituirse por un valor en específico o puede utilizarse el anterior o posterior valor no nulo (en el caso de los dataframes habrá que especificar el eje sobre el que queremos aplicar la función)."
   ]
  },
  {
   "cell_type": "code",
   "execution_count": 31,
   "id": "a4c82872-12bf-4970-a51b-f37bcb519840",
   "metadata": {},
   "outputs": [
    {
     "data": {
      "text/plain": [
       "0    1.0\n",
       "1    NaN\n",
       "2    8.0\n",
       "3    NaN\n",
       "4    7.0\n",
       "dtype: float64"
      ]
     },
     "execution_count": 31,
     "metadata": {},
     "output_type": "execute_result"
    }
   ],
   "source": [
    "n"
   ]
  },
  {
   "cell_type": "code",
   "execution_count": 32,
   "id": "607a1f31-1df8-4fc7-9311-6d784a28e619",
   "metadata": {},
   "outputs": [
    {
     "data": {
      "text/plain": [
       "0    1.0\n",
       "1    0.0\n",
       "2    8.0\n",
       "3    0.0\n",
       "4    7.0\n",
       "dtype: float64"
      ]
     },
     "execution_count": 32,
     "metadata": {},
     "output_type": "execute_result"
    }
   ],
   "source": [
    "n.fillna(0)"
   ]
  },
  {
   "cell_type": "markdown",
   "id": "798ec6f3-a119-49b8-ba3b-9759886c1a1b",
   "metadata": {},
   "source": [
    "Se indicó el 0 como argumento para sustituir en la serie original.\n",
    "También se puede usarl \"forward fill\", lo que hace que los valores no nulos se copien hacia adelante siempre que se encuentren valores nulos. "
   ]
  },
  {
   "cell_type": "code",
   "execution_count": 33,
   "id": "67f5917d-49d3-44ef-a2b2-75d38115a210",
   "metadata": {},
   "outputs": [
    {
     "data": {
      "text/plain": [
       "0    1.0\n",
       "1    1.0\n",
       "2    8.0\n",
       "3    8.0\n",
       "4    7.0\n",
       "dtype: float64"
      ]
     },
     "execution_count": 33,
     "metadata": {},
     "output_type": "execute_result"
    }
   ],
   "source": [
    "n.fillna(method = \"ffill\")"
   ]
  },
  {
   "cell_type": "markdown",
   "id": "09da03b4-7043-4820-ad20-7304ca2aa71e",
   "metadata": {},
   "source": [
    "Los valores nulos se sustituyeron con los no nulos anteriores, se extendieron hacia adelante. Se puede hacer lo mismo pero con los valores siguientes."
   ]
  },
  {
   "cell_type": "code",
   "execution_count": 34,
   "id": "6bbc5d3c-06e5-4334-a48d-5cf14c0cf1a9",
   "metadata": {},
   "outputs": [
    {
     "data": {
      "text/plain": [
       "0    1.0\n",
       "1    8.0\n",
       "2    8.0\n",
       "3    7.0\n",
       "4    7.0\n",
       "dtype: float64"
      ]
     },
     "execution_count": 34,
     "metadata": {},
     "output_type": "execute_result"
    }
   ],
   "source": [
    "n.fillna(method = \"bfill\")"
   ]
  },
  {
   "cell_type": "markdown",
   "id": "ca7a8ba0-a3b9-490b-878f-23e8f3a28d8b",
   "metadata": {},
   "source": [
    "Con los DataFrames es practicamente igual, pero se necesita especificar el eje del que obtener los datos."
   ]
  },
  {
   "cell_type": "code",
   "execution_count": 35,
   "id": "37693e2f-b924-4e30-89ed-83c4991e1977",
   "metadata": {},
   "outputs": [
    {
     "data": {
      "text/html": [
       "<div>\n",
       "<style scoped>\n",
       "    .dataframe tbody tr th:only-of-type {\n",
       "        vertical-align: middle;\n",
       "    }\n",
       "\n",
       "    .dataframe tbody tr th {\n",
       "        vertical-align: top;\n",
       "    }\n",
       "\n",
       "    .dataframe thead th {\n",
       "        text-align: right;\n",
       "    }\n",
       "</style>\n",
       "<table border=\"1\" class=\"dataframe\">\n",
       "  <thead>\n",
       "    <tr style=\"text-align: right;\">\n",
       "      <th></th>\n",
       "      <th>A</th>\n",
       "      <th>B</th>\n",
       "      <th>C</th>\n",
       "      <th>D</th>\n",
       "    </tr>\n",
       "  </thead>\n",
       "  <tbody>\n",
       "    <tr>\n",
       "      <th>Sept</th>\n",
       "      <td>3</td>\n",
       "      <td>1.0</td>\n",
       "      <td>10</td>\n",
       "      <td>NaN</td>\n",
       "    </tr>\n",
       "    <tr>\n",
       "      <th>Oct</th>\n",
       "      <td>4</td>\n",
       "      <td>7.0</td>\n",
       "      <td>5</td>\n",
       "      <td>2.0</td>\n",
       "    </tr>\n",
       "    <tr>\n",
       "      <th>Nov</th>\n",
       "      <td>1</td>\n",
       "      <td>2.0</td>\n",
       "      <td>8</td>\n",
       "      <td>7.0</td>\n",
       "    </tr>\n",
       "    <tr>\n",
       "      <th>Dic</th>\n",
       "      <td>5</td>\n",
       "      <td>NaN</td>\n",
       "      <td>6</td>\n",
       "      <td>9.0</td>\n",
       "    </tr>\n",
       "  </tbody>\n",
       "</table>\n",
       "</div>"
      ],
      "text/plain": [
       "      A    B   C    D\n",
       "Sept  3  1.0  10  NaN\n",
       "Oct   4  7.0   5  2.0\n",
       "Nov   1  2.0   8  7.0\n",
       "Dic   5  NaN   6  9.0"
      ]
     },
     "execution_count": 35,
     "metadata": {},
     "output_type": "execute_result"
    }
   ],
   "source": [
    "dfn2"
   ]
  },
  {
   "cell_type": "code",
   "execution_count": 36,
   "id": "86eb75ea-89bf-459a-bfd2-6eb38f88b01a",
   "metadata": {},
   "outputs": [
    {
     "data": {
      "text/html": [
       "<div>\n",
       "<style scoped>\n",
       "    .dataframe tbody tr th:only-of-type {\n",
       "        vertical-align: middle;\n",
       "    }\n",
       "\n",
       "    .dataframe tbody tr th {\n",
       "        vertical-align: top;\n",
       "    }\n",
       "\n",
       "    .dataframe thead th {\n",
       "        text-align: right;\n",
       "    }\n",
       "</style>\n",
       "<table border=\"1\" class=\"dataframe\">\n",
       "  <thead>\n",
       "    <tr style=\"text-align: right;\">\n",
       "      <th></th>\n",
       "      <th>A</th>\n",
       "      <th>B</th>\n",
       "      <th>C</th>\n",
       "      <th>D</th>\n",
       "    </tr>\n",
       "  </thead>\n",
       "  <tbody>\n",
       "    <tr>\n",
       "      <th>Sept</th>\n",
       "      <td>3</td>\n",
       "      <td>1.0</td>\n",
       "      <td>10</td>\n",
       "      <td>0.0</td>\n",
       "    </tr>\n",
       "    <tr>\n",
       "      <th>Oct</th>\n",
       "      <td>4</td>\n",
       "      <td>7.0</td>\n",
       "      <td>5</td>\n",
       "      <td>2.0</td>\n",
       "    </tr>\n",
       "    <tr>\n",
       "      <th>Nov</th>\n",
       "      <td>1</td>\n",
       "      <td>2.0</td>\n",
       "      <td>8</td>\n",
       "      <td>7.0</td>\n",
       "    </tr>\n",
       "    <tr>\n",
       "      <th>Dic</th>\n",
       "      <td>5</td>\n",
       "      <td>0.0</td>\n",
       "      <td>6</td>\n",
       "      <td>9.0</td>\n",
       "    </tr>\n",
       "  </tbody>\n",
       "</table>\n",
       "</div>"
      ],
      "text/plain": [
       "      A    B   C    D\n",
       "Sept  3  1.0  10  0.0\n",
       "Oct   4  7.0   5  2.0\n",
       "Nov   1  2.0   8  7.0\n",
       "Dic   5  0.0   6  9.0"
      ]
     },
     "execution_count": 36,
     "metadata": {},
     "output_type": "execute_result"
    }
   ],
   "source": [
    "#Sustituyendo valor nulo por 0\n",
    "dfn2.fillna(0)"
   ]
  },
  {
   "cell_type": "code",
   "execution_count": 37,
   "id": "6b4ba4ad-5203-4862-b24e-1b6c5c03e4d9",
   "metadata": {},
   "outputs": [
    {
     "data": {
      "text/html": [
       "<div>\n",
       "<style scoped>\n",
       "    .dataframe tbody tr th:only-of-type {\n",
       "        vertical-align: middle;\n",
       "    }\n",
       "\n",
       "    .dataframe tbody tr th {\n",
       "        vertical-align: top;\n",
       "    }\n",
       "\n",
       "    .dataframe thead th {\n",
       "        text-align: right;\n",
       "    }\n",
       "</style>\n",
       "<table border=\"1\" class=\"dataframe\">\n",
       "  <thead>\n",
       "    <tr style=\"text-align: right;\">\n",
       "      <th></th>\n",
       "      <th>A</th>\n",
       "      <th>B</th>\n",
       "      <th>C</th>\n",
       "      <th>D</th>\n",
       "    </tr>\n",
       "  </thead>\n",
       "  <tbody>\n",
       "    <tr>\n",
       "      <th>Sept</th>\n",
       "      <td>3</td>\n",
       "      <td>1.0</td>\n",
       "      <td>10</td>\n",
       "      <td>NaN</td>\n",
       "    </tr>\n",
       "    <tr>\n",
       "      <th>Oct</th>\n",
       "      <td>4</td>\n",
       "      <td>7.0</td>\n",
       "      <td>5</td>\n",
       "      <td>2.0</td>\n",
       "    </tr>\n",
       "    <tr>\n",
       "      <th>Nov</th>\n",
       "      <td>1</td>\n",
       "      <td>2.0</td>\n",
       "      <td>8</td>\n",
       "      <td>7.0</td>\n",
       "    </tr>\n",
       "    <tr>\n",
       "      <th>Dic</th>\n",
       "      <td>5</td>\n",
       "      <td>2.0</td>\n",
       "      <td>6</td>\n",
       "      <td>9.0</td>\n",
       "    </tr>\n",
       "  </tbody>\n",
       "</table>\n",
       "</div>"
      ],
      "text/plain": [
       "      A    B   C    D\n",
       "Sept  3  1.0  10  NaN\n",
       "Oct   4  7.0   5  2.0\n",
       "Nov   1  2.0   8  7.0\n",
       "Dic   5  2.0   6  9.0"
      ]
     },
     "execution_count": 37,
     "metadata": {},
     "output_type": "execute_result"
    }
   ],
   "source": [
    "#Aplicando \"ffill\" en el eje 0, por defecto.\n",
    "dfn2.fillna(method = \"ffill\")"
   ]
  },
  {
   "cell_type": "markdown",
   "id": "0df18bf7-2073-4686-8c61-778ab3fa6934",
   "metadata": {},
   "source": [
    "El valor nulo de la columna D no se modificó porque no hay un valor anterior del que tomarlo. \n",
    "Lo mismo pasa si se usa \"bfill\" en el eje 1, porque no hay ningun valor posterior. "
   ]
  },
  {
   "cell_type": "code",
   "execution_count": 38,
   "id": "4306608a-eae1-4cb5-9363-ddfa69158b2c",
   "metadata": {},
   "outputs": [
    {
     "data": {
      "text/html": [
       "<div>\n",
       "<style scoped>\n",
       "    .dataframe tbody tr th:only-of-type {\n",
       "        vertical-align: middle;\n",
       "    }\n",
       "\n",
       "    .dataframe tbody tr th {\n",
       "        vertical-align: top;\n",
       "    }\n",
       "\n",
       "    .dataframe thead th {\n",
       "        text-align: right;\n",
       "    }\n",
       "</style>\n",
       "<table border=\"1\" class=\"dataframe\">\n",
       "  <thead>\n",
       "    <tr style=\"text-align: right;\">\n",
       "      <th></th>\n",
       "      <th>A</th>\n",
       "      <th>B</th>\n",
       "      <th>C</th>\n",
       "      <th>D</th>\n",
       "    </tr>\n",
       "  </thead>\n",
       "  <tbody>\n",
       "    <tr>\n",
       "      <th>Sept</th>\n",
       "      <td>3.0</td>\n",
       "      <td>1.0</td>\n",
       "      <td>10.0</td>\n",
       "      <td>NaN</td>\n",
       "    </tr>\n",
       "    <tr>\n",
       "      <th>Oct</th>\n",
       "      <td>4.0</td>\n",
       "      <td>7.0</td>\n",
       "      <td>5.0</td>\n",
       "      <td>2.0</td>\n",
       "    </tr>\n",
       "    <tr>\n",
       "      <th>Nov</th>\n",
       "      <td>1.0</td>\n",
       "      <td>2.0</td>\n",
       "      <td>8.0</td>\n",
       "      <td>7.0</td>\n",
       "    </tr>\n",
       "    <tr>\n",
       "      <th>Dic</th>\n",
       "      <td>5.0</td>\n",
       "      <td>6.0</td>\n",
       "      <td>6.0</td>\n",
       "      <td>9.0</td>\n",
       "    </tr>\n",
       "  </tbody>\n",
       "</table>\n",
       "</div>"
      ],
      "text/plain": [
       "        A    B     C    D\n",
       "Sept  3.0  1.0  10.0  NaN\n",
       "Oct   4.0  7.0   5.0  2.0\n",
       "Nov   1.0  2.0   8.0  7.0\n",
       "Dic   5.0  6.0   6.0  9.0"
      ]
     },
     "execution_count": 38,
     "metadata": {},
     "output_type": "execute_result"
    }
   ],
   "source": [
    "dfn2.fillna(axis = 1, method = \"bfill\")"
   ]
  },
  {
   "cell_type": "markdown",
   "id": "02677afa-969e-4837-ac45-7a452f46de0f",
   "metadata": {},
   "source": [
    "Para evitar estos problemitas previos, puede hacerse una conjunción de metodo \"ffill\" o \"bfill\" con el reemplazo de un valor concreto."
   ]
  },
  {
   "cell_type": "code",
   "execution_count": 39,
   "id": "7c0d2904-bb7d-48b3-a6fc-05e17a62d594",
   "metadata": {},
   "outputs": [
    {
     "data": {
      "text/html": [
       "<div>\n",
       "<style scoped>\n",
       "    .dataframe tbody tr th:only-of-type {\n",
       "        vertical-align: middle;\n",
       "    }\n",
       "\n",
       "    .dataframe tbody tr th {\n",
       "        vertical-align: top;\n",
       "    }\n",
       "\n",
       "    .dataframe thead th {\n",
       "        text-align: right;\n",
       "    }\n",
       "</style>\n",
       "<table border=\"1\" class=\"dataframe\">\n",
       "  <thead>\n",
       "    <tr style=\"text-align: right;\">\n",
       "      <th></th>\n",
       "      <th>A</th>\n",
       "      <th>B</th>\n",
       "      <th>C</th>\n",
       "      <th>D</th>\n",
       "    </tr>\n",
       "  </thead>\n",
       "  <tbody>\n",
       "    <tr>\n",
       "      <th>Sept</th>\n",
       "      <td>3.0</td>\n",
       "      <td>1.0</td>\n",
       "      <td>10.0</td>\n",
       "      <td>0.0</td>\n",
       "    </tr>\n",
       "    <tr>\n",
       "      <th>Oct</th>\n",
       "      <td>4.0</td>\n",
       "      <td>7.0</td>\n",
       "      <td>5.0</td>\n",
       "      <td>2.0</td>\n",
       "    </tr>\n",
       "    <tr>\n",
       "      <th>Nov</th>\n",
       "      <td>1.0</td>\n",
       "      <td>2.0</td>\n",
       "      <td>8.0</td>\n",
       "      <td>7.0</td>\n",
       "    </tr>\n",
       "    <tr>\n",
       "      <th>Dic</th>\n",
       "      <td>5.0</td>\n",
       "      <td>6.0</td>\n",
       "      <td>6.0</td>\n",
       "      <td>9.0</td>\n",
       "    </tr>\n",
       "  </tbody>\n",
       "</table>\n",
       "</div>"
      ],
      "text/plain": [
       "        A    B     C    D\n",
       "Sept  3.0  1.0  10.0  0.0\n",
       "Oct   4.0  7.0   5.0  2.0\n",
       "Nov   1.0  2.0   8.0  7.0\n",
       "Dic   5.0  6.0   6.0  9.0"
      ]
     },
     "execution_count": 39,
     "metadata": {},
     "output_type": "execute_result"
    }
   ],
   "source": [
    "dfn2.fillna(axis = 1, method = \"bfill\").fillna(0)"
   ]
  },
  {
   "cell_type": "markdown",
   "id": "a6491437-73e6-4d21-98b1-da975462d790",
   "metadata": {},
   "source": [
    "**pd.NA**\n",
    "\n",
    "Mientras que nan significa \"Not a number\" y se considera un valor perdido, None tambien se considera un valor perdido, `pd.NA` es un valor experimental y se comporta diferente en ciertos casos. \n",
    "\n",
    "Denota valores perdidos al igual que np.nan. Sin embargo, np.nan es un valor de punto flotante mientras que pd.NA almacena un valor entero. Si tiene la columna 1 con todos los números enteros y algunos valores faltantes en su conjunto de datos, y los valores faltantes se reemplazan por np.nan, entonces el tipo de datos de la columna se convierte en flotante, ya que np.nan es flotante. Pero si tiene la columna 2 con todos los números enteros y algunos valores faltantes en su conjunto de datos, y los valores faltantes se reemplazan por pd.NA, entonces el tipo de datos de la columna sigue siendo un número entero, ya que pd.NA es un número entero. Esto podría ser útil si desea mantener las columnas como int y no cambiarlas para que floten."
   ]
  },
  {
   "cell_type": "code",
   "execution_count": 40,
   "id": "7fef7233-7fcf-48f1-916c-d2567c5faad5",
   "metadata": {},
   "outputs": [
    {
     "name": "stdout",
     "output_type": "stream",
     "text": [
      "<class 'pandas.core.frame.DataFrame'>\n",
      "Index: 4 entries, Sept to Dic\n",
      "Data columns (total 5 columns):\n",
      " #   Column  Non-Null Count  Dtype  \n",
      "---  ------  --------------  -----  \n",
      " 0   A       4 non-null      int64  \n",
      " 1   B       3 non-null      object \n",
      " 2   C       4 non-null      int64  \n",
      " 3   D       3 non-null      float64\n",
      " 4   E       2 non-null      object \n",
      "dtypes: float64(1), int64(2), object(2)\n",
      "memory usage: 192.0+ bytes\n"
     ]
    }
   ],
   "source": [
    "dfn3 = pd.DataFrame({\"A\":[3, 4, 1, 5],\n",
    "                    \"B\":[1, 7, 2, pd.NA],\n",
    "                    \"C\":[10, 5, 8, 6],\n",
    "                    \"D\":[np.nan, 2, 7, 9],\n",
    "                    \"E\":[np.nan, 5, pd.NA, 0]},\n",
    "                   index = [\"Sept\", \"Oct\", \"Nov\", \"Dic\"])\n",
    "dfn3.info()"
   ]
  },
  {
   "cell_type": "markdown",
   "id": "b7289007-fe0f-46f1-8e92-9a18865103a5",
   "metadata": {},
   "source": [
    "Al crearse un DF, la columna con valor np.nan se considera de tipo float, pero la que tiene un valor pd.NA es tipo object.\n",
    "Y la columna con ambos tipos de valores nulos, también se considera object. "
   ]
  },
  {
   "cell_type": "markdown",
   "id": "e64ddc96-32c2-4b54-b12d-598ed04906a1",
   "metadata": {},
   "source": [
    "**Problema 5:** Pandas incluye funciones para la lectura de archivos CSV o Excel. Consulta los sitios de datos abiertos de alguna institución pública o gubernamental, descarga un dataset en formato CSV, otro en Excel y carga los datos en un DataFrame de Pandas. El DataFrame resultante debe tener asociada a cada columna el tipo de dato adecuado para trabajar."
   ]
  },
  {
   "cell_type": "code",
   "execution_count": 41,
   "id": "d59a8f30-783d-484d-af06-b49564d06047",
   "metadata": {},
   "outputs": [
    {
     "name": "stdout",
     "output_type": "stream",
     "text": [
      "C:\\Users\\ghost\\Documents\\PCDPy\n"
     ]
    }
   ],
   "source": [
    "print(os.getcwd())\n",
    "subdir = \"./data/\""
   ]
  },
  {
   "cell_type": "code",
   "execution_count": 42,
   "id": "bbba0328-8530-4b93-81ba-a4f6e7443c63",
   "metadata": {},
   "outputs": [],
   "source": [
    "#URL datos de SESNSP\n",
    "SESNSP_1522='https://drive.google.com/u/0/uc?id=1i2Zts5aDcd8cfixtA1Jn-JGlKIgYTZWN&export=download'\n",
    "Diccionario_SESNSP_1522='https://drive.google.com/u/0/uc?id=1rfvgcAcEzLR1Q44wwjZhjBvBFjtGSmX3&export=download'\n",
    "\n",
    "#Ubicacion para datos de la SESNSP\n",
    "SESNSP_1522_file='IDEFC_NM_ago22.csv'\n",
    "Diccionario_SESNSP_1522_file='DD_sesNSP.xlsx'"
   ]
  },
  {
   "cell_type": "code",
   "execution_count": 43,
   "id": "6ef26451-7304-44f1-a52c-554419b7c9df",
   "metadata": {},
   "outputs": [],
   "source": [
    "SESNSP = { SESNSP_1522:SESNSP_1522_file, Diccionario_SESNSP_1522:Diccionario_SESNSP_1522_file }"
   ]
  },
  {
   "cell_type": "code",
   "execution_count": 44,
   "id": "f30e1744-8cc6-4ac9-9f8c-49f54acaee8f",
   "metadata": {},
   "outputs": [
    {
     "name": "stdout",
     "output_type": "stream",
     "text": [
      "Descarga de SESNSP terminada.\n"
     ]
    }
   ],
   "source": [
    "for url, archivo in SESNSP.items(): \n",
    "    if not os.path.exists(archivo):\n",
    "        if not os.path.exists(subdir):\n",
    "            os.makedirs(subdir)\n",
    "        urllib.request.urlretrieve(url, subdir + archivo)  \n",
    "print(\"Descarga de SESNSP terminada.\")\n"
   ]
  },
  {
   "cell_type": "code",
   "execution_count": 45,
   "id": "b4eb36aa-1581-4821-912b-1c97c4d46798",
   "metadata": {},
   "outputs": [],
   "source": [
    "sesnsp=pd.read_csv(\"data//\"+SESNSP_1522_file, encoding='latin-1')"
   ]
  },
  {
   "cell_type": "code",
   "execution_count": 46,
   "id": "49462500-32fd-4ca3-b687-6ccf31d4d419",
   "metadata": {},
   "outputs": [
    {
     "name": "stderr",
     "output_type": "stream",
     "text": [
      "C:\\Users\\ghost\\AppData\\Local\\Temp\\ipykernel_26048\\1260179026.py:29: FutureWarning: Dropping of nuisance columns in DataFrame reductions (with 'numeric_only=None') is deprecated; in a future version this will raise TypeError.  Select only valid columns before calling the reduction.\n",
      "  SESNSP_tidy['Total'] = SESNSP_tidy[col_listSESNSP].sum(axis=1)\n"
     ]
    }
   ],
   "source": [
    "sesnsp_columns=['Año', \n",
    "                'Clave_Ent', \n",
    "                'Entidad', \n",
    "                'Bien jurídico afectado',\n",
    "                'Tipo de delito',\n",
    "                'Subtipo de delito',\n",
    "                'Modalidad',\n",
    "                'Enero',  \n",
    "                'Febrero',\n",
    "                'Marzo',\n",
    "                'Abril',\n",
    "                'Mayo',\n",
    "                'Junio',\n",
    "                'Julio',\n",
    "                'Agosto',\n",
    "                'Septiembre',\n",
    "                'Octubre',\n",
    "                'Noviembre',\n",
    "                'Diciembre']\n",
    "\n",
    "\n",
    "SESNSP_tidy=sesnsp[sesnsp_columns].copy()\n",
    "\n",
    "#Creando lista de columna para descartar Año y Clave_Ent para el momento de la sumatoria. \n",
    "col_listSESNSP= list(SESNSP_tidy)\n",
    "col_listSESNSP.remove('Año')\n",
    "col_listSESNSP.remove('Clave_Ent')\n",
    "#Suma de columnas numéricas (solo los datos registrados en meses para obtener el total anual)\n",
    "SESNSP_tidy['Total'] = SESNSP_tidy[col_listSESNSP].sum(axis=1)\n",
    "\n",
    "#Descartando columnas que no se usarán\n",
    "SESNSP_tidy.drop(['Clave_Ent', \n",
    "                'Bien jurídico afectado', \n",
    "                'Subtipo de delito', \n",
    "                'Modalidad',\n",
    "                'Enero',  \n",
    "                'Febrero',\n",
    "                'Marzo',\n",
    "                'Abril',\n",
    "                'Mayo',\n",
    "                'Junio',\n",
    "                'Julio',\n",
    "                'Agosto',\n",
    "                'Septiembre',\n",
    "                'Octubre',\n",
    "                'Noviembre',\n",
    "                'Diciembre'], axis = 'columns', inplace=True)\n",
    "\n",
    "#Descartando filas que no pertenecen al delito Feminicidio\n",
    "SESNSP_tidy = SESNSP_tidy.drop(SESNSP_tidy[SESNSP_tidy['Tipo de delito']!='Feminicidio'].index)\n",
    "\n",
    "#Descartando filas que no pertenecen a los años 2015-2018\n",
    "SESNSP_tidy = SESNSP_tidy.drop(SESNSP_tidy[SESNSP_tidy['Año']> 2018].index)\n",
    "\n",
    "#Renombrando columna\n",
    "SESNSP_tidy = SESNSP_tidy.rename(columns ={'Tipo de delito':'Delito'})\n",
    "\n",
    "#Convirtiendo valores float a int\n",
    "convert_dict = {'Total': int}\n",
    "SESNSP_tidy = SESNSP_tidy.astype(convert_dict)\n"
   ]
  },
  {
   "cell_type": "code",
   "execution_count": 47,
   "id": "fdc295e7-06b7-4d20-8823-a25555f19347",
   "metadata": {},
   "outputs": [],
   "source": [
    "#Uniendo filas pertenecientes al mismo año y entidad.\n",
    "def unir_feminicidios(SESNSP_tidy):\n",
    "  f1 = \", \".join(f\"{fem:}\" for fem in set(SESNSP_tidy.Delito.dropna()))\n",
    "  t = np.sum(SESNSP_tidy.Total.dropna())\n",
    "  return pd.DataFrame({\"Delito\":[f1], \"Total\":[t]})\n",
    "\n",
    "SESNSP_tidy = SESNSP_tidy.groupby([\"Año\", \"Entidad\"]).apply(unir_feminicidios).droplevel(-1).reset_index()\n",
    "\n",
    "#Ordenando por estado\n",
    "SESNSP_tidySt = SESNSP_tidy.sort_values(\"Entidad\")"
   ]
  },
  {
   "cell_type": "code",
   "execution_count": 48,
   "id": "c8f3e8ee-c8fa-4a65-8dd6-39a61e32d1fc",
   "metadata": {},
   "outputs": [
    {
     "data": {
      "text/html": [
       "<div>\n",
       "<style scoped>\n",
       "    .dataframe tbody tr th:only-of-type {\n",
       "        vertical-align: middle;\n",
       "    }\n",
       "\n",
       "    .dataframe tbody tr th {\n",
       "        vertical-align: top;\n",
       "    }\n",
       "\n",
       "    .dataframe thead th {\n",
       "        text-align: right;\n",
       "    }\n",
       "</style>\n",
       "<table border=\"1\" class=\"dataframe\">\n",
       "  <thead>\n",
       "    <tr style=\"text-align: right;\">\n",
       "      <th></th>\n",
       "      <th>Año</th>\n",
       "      <th>Entidad</th>\n",
       "      <th>Delito</th>\n",
       "      <th>Total</th>\n",
       "    </tr>\n",
       "  </thead>\n",
       "  <tbody>\n",
       "    <tr>\n",
       "      <th>0</th>\n",
       "      <td>2015</td>\n",
       "      <td>Aguascalientes</td>\n",
       "      <td>Feminicidio</td>\n",
       "      <td>0</td>\n",
       "    </tr>\n",
       "    <tr>\n",
       "      <th>1</th>\n",
       "      <td>2015</td>\n",
       "      <td>Baja California</td>\n",
       "      <td>Feminicidio</td>\n",
       "      <td>10</td>\n",
       "    </tr>\n",
       "    <tr>\n",
       "      <th>2</th>\n",
       "      <td>2015</td>\n",
       "      <td>Baja California Sur</td>\n",
       "      <td>Feminicidio</td>\n",
       "      <td>0</td>\n",
       "    </tr>\n",
       "    <tr>\n",
       "      <th>3</th>\n",
       "      <td>2015</td>\n",
       "      <td>Campeche</td>\n",
       "      <td>Feminicidio</td>\n",
       "      <td>4</td>\n",
       "    </tr>\n",
       "    <tr>\n",
       "      <th>4</th>\n",
       "      <td>2015</td>\n",
       "      <td>Chiapas</td>\n",
       "      <td>Feminicidio</td>\n",
       "      <td>36</td>\n",
       "    </tr>\n",
       "    <tr>\n",
       "      <th>...</th>\n",
       "      <td>...</td>\n",
       "      <td>...</td>\n",
       "      <td>...</td>\n",
       "      <td>...</td>\n",
       "    </tr>\n",
       "    <tr>\n",
       "      <th>123</th>\n",
       "      <td>2018</td>\n",
       "      <td>Tamaulipas</td>\n",
       "      <td>Feminicidio</td>\n",
       "      <td>13</td>\n",
       "    </tr>\n",
       "    <tr>\n",
       "      <th>124</th>\n",
       "      <td>2018</td>\n",
       "      <td>Tlaxcala</td>\n",
       "      <td>Feminicidio</td>\n",
       "      <td>4</td>\n",
       "    </tr>\n",
       "    <tr>\n",
       "      <th>125</th>\n",
       "      <td>2018</td>\n",
       "      <td>Veracruz de Ignacio de la Llave</td>\n",
       "      <td>Feminicidio</td>\n",
       "      <td>101</td>\n",
       "    </tr>\n",
       "    <tr>\n",
       "      <th>126</th>\n",
       "      <td>2018</td>\n",
       "      <td>Yucatán</td>\n",
       "      <td>Feminicidio</td>\n",
       "      <td>7</td>\n",
       "    </tr>\n",
       "    <tr>\n",
       "      <th>127</th>\n",
       "      <td>2018</td>\n",
       "      <td>Zacatecas</td>\n",
       "      <td>Feminicidio</td>\n",
       "      <td>20</td>\n",
       "    </tr>\n",
       "  </tbody>\n",
       "</table>\n",
       "<p>128 rows × 4 columns</p>\n",
       "</div>"
      ],
      "text/plain": [
       "      Año                          Entidad       Delito  Total\n",
       "0    2015                   Aguascalientes  Feminicidio      0\n",
       "1    2015                  Baja California  Feminicidio     10\n",
       "2    2015              Baja California Sur  Feminicidio      0\n",
       "3    2015                         Campeche  Feminicidio      4\n",
       "4    2015                          Chiapas  Feminicidio     36\n",
       "..    ...                              ...          ...    ...\n",
       "123  2018                       Tamaulipas  Feminicidio     13\n",
       "124  2018                         Tlaxcala  Feminicidio      4\n",
       "125  2018  Veracruz de Ignacio de la Llave  Feminicidio    101\n",
       "126  2018                          Yucatán  Feminicidio      7\n",
       "127  2018                        Zacatecas  Feminicidio     20\n",
       "\n",
       "[128 rows x 4 columns]"
      ]
     },
     "execution_count": 48,
     "metadata": {},
     "output_type": "execute_result"
    }
   ],
   "source": [
    "SESNSP_tidy"
   ]
  },
  {
   "cell_type": "code",
   "execution_count": 49,
   "id": "27d11972-ce8e-437f-bee8-ec485a4cc427",
   "metadata": {},
   "outputs": [
    {
     "name": "stdout",
     "output_type": "stream",
     "text": [
      "<class 'pandas.core.frame.DataFrame'>\n",
      "RangeIndex: 128 entries, 0 to 127\n",
      "Data columns (total 4 columns):\n",
      " #   Column   Non-Null Count  Dtype \n",
      "---  ------   --------------  ----- \n",
      " 0   Año      128 non-null    int64 \n",
      " 1   Entidad  128 non-null    object\n",
      " 2   Delito   128 non-null    object\n",
      " 3   Total    128 non-null    int64 \n",
      "dtypes: int64(2), object(2)\n",
      "memory usage: 4.1+ KB\n"
     ]
    }
   ],
   "source": [
    "SESNSP_tidy.info()"
   ]
  },
  {
   "cell_type": "code",
   "execution_count": 50,
   "id": "641cdcd8-7364-4ad5-88f3-78556956969d",
   "metadata": {},
   "outputs": [],
   "source": [
    "dicsesnsp=pd.read_excel(\"data//\"+Diccionario_SESNSP_1522_file)"
   ]
  },
  {
   "cell_type": "code",
   "execution_count": 51,
   "id": "15f9abc5-ca1f-4ba0-9e2b-fddd4915d297",
   "metadata": {},
   "outputs": [
    {
     "data": {
      "text/html": [
       "<div>\n",
       "<style scoped>\n",
       "    .dataframe tbody tr th:only-of-type {\n",
       "        vertical-align: middle;\n",
       "    }\n",
       "\n",
       "    .dataframe tbody tr th {\n",
       "        vertical-align: top;\n",
       "    }\n",
       "\n",
       "    .dataframe thead th {\n",
       "        text-align: right;\n",
       "    }\n",
       "</style>\n",
       "<table border=\"1\" class=\"dataframe\">\n",
       "  <thead>\n",
       "    <tr style=\"text-align: right;\">\n",
       "      <th></th>\n",
       "      <th>Incidencia Delictiva Fuero Común - Nueva Metodología</th>\n",
       "      <th>Unnamed: 1</th>\n",
       "    </tr>\n",
       "  </thead>\n",
       "  <tbody>\n",
       "    <tr>\n",
       "      <th>0</th>\n",
       "      <td>Campo</td>\n",
       "      <td>Descripción</td>\n",
       "    </tr>\n",
       "    <tr>\n",
       "      <th>1</th>\n",
       "      <td>Año</td>\n",
       "      <td>Año de registro de las averiguaciones previas ...</td>\n",
       "    </tr>\n",
       "    <tr>\n",
       "      <th>2</th>\n",
       "      <td>Clave_Ent</td>\n",
       "      <td>Clave de la entidad, según el Marco Geoestadís...</td>\n",
       "    </tr>\n",
       "    <tr>\n",
       "      <th>3</th>\n",
       "      <td>Entidad</td>\n",
       "      <td>Entidad federativa de registro de las averigua...</td>\n",
       "    </tr>\n",
       "    <tr>\n",
       "      <th>4</th>\n",
       "      <td>Bien jurídico afectado</td>\n",
       "      <td>Primera clasificación de los delitos en las av...</td>\n",
       "    </tr>\n",
       "    <tr>\n",
       "      <th>5</th>\n",
       "      <td>Tipo de delito</td>\n",
       "      <td>Segunda clasificación de los delitos.</td>\n",
       "    </tr>\n",
       "    <tr>\n",
       "      <th>6</th>\n",
       "      <td>Subtipo de delito</td>\n",
       "      <td>Tercera clasificación de los delitos.</td>\n",
       "    </tr>\n",
       "    <tr>\n",
       "      <th>7</th>\n",
       "      <td>Modalidad</td>\n",
       "      <td>Cuarta clasificación de los delitos.</td>\n",
       "    </tr>\n",
       "    <tr>\n",
       "      <th>8</th>\n",
       "      <td>Enero - diciembre</td>\n",
       "      <td>Mes de registro de las averiguaciones previas ...</td>\n",
       "    </tr>\n",
       "  </tbody>\n",
       "</table>\n",
       "</div>"
      ],
      "text/plain": [
       "  Incidencia Delictiva Fuero Común - Nueva Metodología  \\\n",
       "0                                              Campo     \n",
       "1                                                Año     \n",
       "2                                          Clave_Ent     \n",
       "3                                            Entidad     \n",
       "4                             Bien jurídico afectado     \n",
       "5                                     Tipo de delito     \n",
       "6                                  Subtipo de delito     \n",
       "7                                          Modalidad     \n",
       "8                                  Enero - diciembre     \n",
       "\n",
       "                                          Unnamed: 1  \n",
       "0                                        Descripción  \n",
       "1  Año de registro de las averiguaciones previas ...  \n",
       "2  Clave de la entidad, según el Marco Geoestadís...  \n",
       "3  Entidad federativa de registro de las averigua...  \n",
       "4  Primera clasificación de los delitos en las av...  \n",
       "5              Segunda clasificación de los delitos.  \n",
       "6              Tercera clasificación de los delitos.  \n",
       "7               Cuarta clasificación de los delitos.  \n",
       "8  Mes de registro de las averiguaciones previas ...  "
      ]
     },
     "execution_count": 51,
     "metadata": {},
     "output_type": "execute_result"
    }
   ],
   "source": [
    "dicsesnsp"
   ]
  },
  {
   "cell_type": "code",
   "execution_count": 52,
   "id": "0a4581ca-8900-470f-af3e-1218b98929cb",
   "metadata": {},
   "outputs": [
    {
     "name": "stdout",
     "output_type": "stream",
     "text": [
      "<class 'pandas.core.frame.DataFrame'>\n",
      "RangeIndex: 9 entries, 0 to 8\n",
      "Data columns (total 2 columns):\n",
      " #   Column                                                Non-Null Count  Dtype \n",
      "---  ------                                                --------------  ----- \n",
      " 0   Incidencia Delictiva Fuero Común - Nueva Metodología  9 non-null      object\n",
      " 1   Unnamed: 1                                            9 non-null      object\n",
      "dtypes: object(2)\n",
      "memory usage: 272.0+ bytes\n"
     ]
    }
   ],
   "source": [
    "dicsesnsp.info()"
   ]
  },
  {
   "cell_type": "code",
   "execution_count": null,
   "id": "005360f7-1701-4c70-9112-603de8796ab8",
   "metadata": {},
   "outputs": [],
   "source": []
  }
 ],
 "metadata": {
  "kernelspec": {
   "display_name": "Python 3 (ipykernel)",
   "language": "python",
   "name": "python3"
  },
  "language_info": {
   "codemirror_mode": {
    "name": "ipython",
    "version": 3
   },
   "file_extension": ".py",
   "mimetype": "text/x-python",
   "name": "python",
   "nbconvert_exporter": "python",
   "pygments_lexer": "ipython3",
   "version": "3.10.7"
  }
 },
 "nbformat": 4,
 "nbformat_minor": 5
}
